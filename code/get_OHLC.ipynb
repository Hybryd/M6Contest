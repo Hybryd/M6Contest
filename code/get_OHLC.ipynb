{
 "cells": [
  {
   "cell_type": "code",
   "execution_count": 1,
   "id": "972d598c",
   "metadata": {},
   "outputs": [],
   "source": [
    "import yfinance as yf\n",
    "import pandas as pd\n",
    "import csv\n",
    "import datetime as dt\n",
    "from datetime import datetime # To get the current date and time\n",
    "from datetime import date, timedelta\n",
    "import csv\n",
    "import time\n",
    "import os # To check if the file exists"
   ]
  },
  {
   "cell_type": "code",
   "execution_count": 2,
   "id": "2cf5a6da",
   "metadata": {},
   "outputs": [],
   "source": [
    "assets = pd.read_csv(\"./docs/M6_Universe.csv\")"
   ]
  },
  {
   "cell_type": "code",
   "execution_count": 3,
   "id": "752ad8cc",
   "metadata": {},
   "outputs": [],
   "source": [
    "symbols_list = list(assets[\"symbol\"])"
   ]
  },
  {
   "cell_type": "code",
   "execution_count": 5,
   "id": "052b8e97",
   "metadata": {},
   "outputs": [
    {
     "name": "stdout",
     "output_type": "stream",
     "text": [
      "['ABBV', 'ACN', 'AEP', 'AIZ', 'ALLE', 'AMAT', 'AMP', 'AMZN', 'AVB', 'AVY', 'AXP', 'BDX', 'BF-B', 'BMY', 'BR', 'CARR', 'CDW', 'CE', 'CHTR', 'CNC', 'CNP', 'COP', 'CTAS', 'CZR', 'DG', 'DPZ', 'DRE', 'DXC', 'FB', 'FTV', 'GOOG', 'GPC', 'HIG', 'HST', 'JPM', 'KR', 'OGN', 'PG', 'PPL', 'PRU', 'PYPL', 'RE', 'ROL', 'ROST', 'UNH', 'URI', 'V', 'VRSK', 'WRK', 'XOM', 'IVV', 'IWM', 'EWU', 'EWG', 'EWL', 'EWQ', 'IEUS', 'EWJ', 'EWT', 'MCHI', 'INDA', 'EWY', 'EWA', 'EWH', 'EWZ', 'EWC', 'IEMG', 'LQD', 'HYG', 'SHY', 'IEF', 'TLT', 'SEGA.L', 'IEAA.L', 'HIGH.L', 'JPEA.L', 'IAU', 'SLV', 'GSG', 'REET', 'ICLN', 'IXN', 'IGF', 'IUVL.L', 'IUMO.L', 'SPMV.L', 'IEVL.L', 'IEFM.L', 'MVEU.L', 'XLK', 'XLF', 'XLV', 'XLE', 'XLY', 'XLI', 'XLC', 'XLU', 'XLP', 'XLB', 'VXX']\n"
     ]
    }
   ],
   "source": [
    "print(symbols_list)"
   ]
  },
  {
   "cell_type": "code",
   "execution_count": 40,
   "id": "1fdb94ce",
   "metadata": {},
   "outputs": [],
   "source": [
    "def get_OHLC_data(tickers, start_date = None, end_date = None) :\n",
    "    '''\n",
    "    This function gets daily OHLC data from Yahoo Finance API for the provided number of days. \n",
    "    In case days is not provided then data is pulled for maximum number of days\n",
    "\n",
    "    Input Parameters: \n",
    "    tickers: List of tickers for which data needs to be extracted\n",
    "    Start Date: Date from which data needs to be pulled\n",
    "    End Date: Date until which data needs to be pulled\n",
    "    If start and end date is null then data for maximum number of days is pulled\n",
    "\n",
    "    Returns: Dataframe of the extracted data\n",
    "    '''\n",
    "    final_OHLC_df = pd.DataFrame() # Declare the final empty dataframe\n",
    "    cpt=1\n",
    "    for ticker in tickers: # For each stock symbol in the list of symbols\n",
    "        print(ticker,float(cpt)/len(tickers)*100,\"%\")\n",
    "        OHLC_data = pd.DataFrame() # Declare intermediate data frame\n",
    "\n",
    "        yf_ticker_obj = yf.Ticker(ticker) # Initiate object to get the data from API\n",
    "\n",
    "        # If start date and end date is provided then pull data for those days\n",
    "        if(start_date != None and end_date != None):\n",
    "            OHLC_data = yf_ticker_obj.history(start = start_date, end = end_date, interval = \"1d\", auto_adjust = True)\n",
    "            #print(OHLC_data.columns)\n",
    "            \n",
    "\n",
    "        else: # Pull data for all the available days\n",
    "            OHLC_data = yf_ticker_obj.history(period=\"max\", interval = \"1d\", auto_adjust = True)\n",
    "            #print(OHLC_data)\n",
    "            # Note: In the above period = ‘max’ as we are pulling data for maximum number of days.\n",
    "            # interval = ‘1d’ as per pulling daily data for Open, High, Low, Close and Volume\n",
    "            # auto_adjust = ‘True’ as we are adjusting data for Dividends and Splits\n",
    "\n",
    "        OHLC_data.insert(0, \"Symbol\", ticker) # Adding this data to dataframe\n",
    "        # Delete split and dividend columns as this is not required.\n",
    "\n",
    "        OHLC_data = OHLC_data.drop([\"Dividends\",\"Stock Splits\"], axis=1, errors=\"ignore\")\n",
    "\n",
    "        # Apppending this data to final dataframe\n",
    "        final_OHLC_df = final_OHLC_df.append(OHLC_data)\n",
    "        \n",
    "        cpt+=1\n",
    "        time.sleep(.5)\n",
    "        \n",
    "        \n",
    "\n",
    "    final_OHLC_df.reset_index(inplace=True) # Re-setting the index\n",
    "\n",
    "    # Setting index to symbol and date\n",
    "    final_OHLC_df.set_index([\"Date\", \"Symbol\"], inplace=True)\n",
    "    return final_OHLC_df"
   ]
  },
  {
   "cell_type": "code",
   "execution_count": 41,
   "id": "4ca891c1",
   "metadata": {},
   "outputs": [
    {
     "name": "stdout",
     "output_type": "stream",
     "text": [
      "ABBV 1.0 %\n",
      "ACN 2.0 %\n",
      "AEP 3.0 %\n",
      "AIZ 4.0 %\n",
      "ALLE 5.0 %\n",
      "AMAT 6.0 %\n",
      "AMP 7.000000000000001 %\n",
      "AMZN 8.0 %\n",
      "AVB 9.0 %\n",
      "AVY 10.0 %\n",
      "AXP 11.0 %\n",
      "BDX 12.0 %\n",
      "BF-B 13.0 %\n",
      "BMY 14.000000000000002 %\n",
      "BR 15.0 %\n",
      "CARR 16.0 %\n",
      "CDW 17.0 %\n",
      "CE 18.0 %\n",
      "CHTR 19.0 %\n",
      "CNC 20.0 %\n",
      "CNP 21.0 %\n",
      "COP 22.0 %\n",
      "CTAS 23.0 %\n",
      "CZR 24.0 %\n",
      "DG 25.0 %\n",
      "DPZ 26.0 %\n",
      "DRE 27.0 %\n",
      "DXC 28.000000000000004 %\n",
      "FB 28.999999999999996 %\n",
      "FTV 30.0 %\n",
      "GOOG 31.0 %\n",
      "GPC 32.0 %\n",
      "HIG 33.0 %\n",
      "HST 34.0 %\n",
      "JPM 35.0 %\n",
      "KR 36.0 %\n",
      "OGN 37.0 %\n",
      "PG 38.0 %\n",
      "PPL 39.0 %\n",
      "PRU 40.0 %\n",
      "PYPL 41.0 %\n",
      "RE 42.0 %\n",
      "ROL 43.0 %\n",
      "ROST 44.0 %\n",
      "UNH 45.0 %\n",
      "URI 46.0 %\n",
      "V 47.0 %\n",
      "VRSK 48.0 %\n",
      "WRK 49.0 %\n",
      "XOM 50.0 %\n",
      "IVV 51.0 %\n",
      "IWM 52.0 %\n",
      "EWU 53.0 %\n",
      "EWG 54.0 %\n",
      "EWL 55.00000000000001 %\n",
      "EWQ 56.00000000000001 %\n",
      "IEUS 56.99999999999999 %\n",
      "EWJ 57.99999999999999 %\n",
      "EWT 59.0 %\n",
      "MCHI 60.0 %\n",
      "INDA 61.0 %\n",
      "EWY 62.0 %\n",
      "EWA 63.0 %\n",
      "EWH 64.0 %\n",
      "EWZ 65.0 %\n",
      "EWC 66.0 %\n",
      "IEMG 67.0 %\n",
      "LQD 68.0 %\n",
      "HYG 69.0 %\n",
      "SHY 70.0 %\n",
      "IEF 71.0 %\n",
      "TLT 72.0 %\n",
      "SEGA.L 73.0 %\n",
      "IEAA.L 74.0 %\n",
      "HIGH.L 75.0 %\n",
      "JPEA.L 76.0 %\n",
      "IAU 77.0 %\n",
      "SLV 78.0 %\n",
      "GSG 79.0 %\n",
      "REET 80.0 %\n",
      "ICLN 81.0 %\n",
      "IXN 82.0 %\n",
      "IGF 83.0 %\n",
      "IUVL.L 84.0 %\n",
      "IUMO.L 85.0 %\n",
      "SPMV.L 86.0 %\n",
      "IEVL.L 87.0 %\n",
      "IEFM.L 88.0 %\n",
      "MVEU.L 89.0 %\n",
      "XLK 90.0 %\n",
      "XLF 91.0 %\n",
      "XLV 92.0 %\n",
      "XLE 93.0 %\n",
      "XLY 94.0 %\n",
      "XLI 95.0 %\n",
      "XLC 96.0 %\n",
      "XLU 97.0 %\n",
      "XLP 98.0 %\n",
      "XLB 99.0 %\n",
      "VXX 100.0 %\n"
     ]
    }
   ],
   "source": [
    "df_ohlc = get_OHLC_data(symbols_list,start_date=\"1980-01-01\",end_date=\"2022-02-18\")"
   ]
  },
  {
   "cell_type": "code",
   "execution_count": 42,
   "id": "0a284b82",
   "metadata": {},
   "outputs": [
    {
     "name": "stdout",
     "output_type": "stream",
     "text": [
      "                        Open       High        Low      Close     Volume\n",
      "Date       Symbol                                                       \n",
      "2013-01-02 ABBV    23.848844  24.176665  23.288819  23.985435   13767900\n",
      "2013-01-03 ABBV    23.903484  23.903484  23.329800  23.787382   16739300\n",
      "2013-01-04 ABBV    23.643949  23.828348  23.391256  23.486870   21372100\n",
      "2013-01-07 ABBV    23.322972  24.210815  23.322972  23.534687   17897100\n",
      "2013-01-08 ABBV    23.418585  23.657618  22.783435  23.022469   17863300\n",
      "...                      ...        ...        ...        ...        ...\n",
      "2022-02-11 VXX     20.469999  23.870001  20.295000  23.240000  116830300\n",
      "2022-02-14 VXX     23.309999  24.799999  23.010000  23.309999  102120800\n",
      "2022-02-15 VXX     21.680000  22.219999  21.330000  21.389999   55678200\n",
      "2022-02-16 VXX     21.700001  22.139999  20.459999  20.530001   57347600\n",
      "2022-02-17 VXX     21.709999  23.090000  21.620001  22.959999   66985600\n",
      "\n",
      "[542270 rows x 5 columns]\n"
     ]
    }
   ],
   "source": [
    "print(df_ohlc)"
   ]
  },
  {
   "cell_type": "code",
   "execution_count": 43,
   "id": "96c4baa2",
   "metadata": {},
   "outputs": [],
   "source": [
    "df_ohlc.to_csv(\"ohlcv_m6.csv\")"
   ]
  },
  {
   "cell_type": "code",
   "execution_count": 65,
   "id": "2277449b",
   "metadata": {},
   "outputs": [
    {
     "name": "stdout",
     "output_type": "stream",
     "text": [
      "<class 'pandas.core.frame.DataFrame'>\n",
      "RangeIndex: 542270 entries, 0 to 542269\n",
      "Data columns (total 7 columns):\n",
      " #   Column  Non-Null Count   Dtype         \n",
      "---  ------  --------------   -----         \n",
      " 0   Date    542270 non-null  datetime64[ns]\n",
      " 1   Symbol  542270 non-null  object        \n",
      " 2   Open    542270 non-null  float64       \n",
      " 3   High    542270 non-null  float64       \n",
      " 4   Low     542270 non-null  float64       \n",
      " 5   Close   542270 non-null  float64       \n",
      " 6   Volume  542270 non-null  int64         \n",
      "dtypes: datetime64[ns](1), float64(4), int64(1), object(1)\n",
      "memory usage: 29.0+ MB\n",
      "None\n"
     ]
    }
   ],
   "source": [
    "df_ohlc_2 = df_ohlc.reset_index(level=['Date', 'Symbol'])\n",
    "print(df_ohlc_2.info())"
   ]
  },
  {
   "cell_type": "code",
   "execution_count": 54,
   "id": "db813767",
   "metadata": {},
   "outputs": [],
   "source": [
    "# Extract only mondays values\n",
    "from datetime import date"
   ]
  },
  {
   "cell_type": "code",
   "execution_count": 59,
   "id": "ec5ff3c6",
   "metadata": {},
   "outputs": [
    {
     "name": "stdout",
     "output_type": "stream",
     "text": [
      "0\n"
     ]
    }
   ],
   "source": [
    "date_time_obj = datetime.strptime(\"2021-09-06\", '%Y-%m-%d')\n",
    "print(date_time_obj.weekday())"
   ]
  },
  {
   "cell_type": "code",
   "execution_count": 66,
   "id": "671c96b3",
   "metadata": {},
   "outputs": [],
   "source": [
    "jours = df_ohlc_2[\"Date\"].apply(lambda x:x.weekday())#datetime.strptime(x, '%Y-%m-%d'))"
   ]
  },
  {
   "cell_type": "code",
   "execution_count": 68,
   "id": "afab9535",
   "metadata": {},
   "outputs": [],
   "source": [
    "df_ohlc_2[\"Jours\"] = jours"
   ]
  },
  {
   "cell_type": "code",
   "execution_count": 69,
   "id": "bf77e336",
   "metadata": {},
   "outputs": [
    {
     "name": "stdout",
     "output_type": "stream",
     "text": [
      "             Date Symbol       Open       High        Low      Close  \\\n",
      "0      2013-01-02   ABBV  23.848844  24.176665  23.288819  23.985435   \n",
      "1      2013-01-03   ABBV  23.903484  23.903484  23.329800  23.787382   \n",
      "2      2013-01-04   ABBV  23.643949  23.828348  23.391256  23.486870   \n",
      "3      2013-01-07   ABBV  23.322972  24.210815  23.322972  23.534687   \n",
      "4      2013-01-08   ABBV  23.418585  23.657618  22.783435  23.022469   \n",
      "...           ...    ...        ...        ...        ...        ...   \n",
      "542265 2022-02-11    VXX  20.469999  23.870001  20.295000  23.240000   \n",
      "542266 2022-02-14    VXX  23.309999  24.799999  23.010000  23.309999   \n",
      "542267 2022-02-15    VXX  21.680000  22.219999  21.330000  21.389999   \n",
      "542268 2022-02-16    VXX  21.700001  22.139999  20.459999  20.530001   \n",
      "542269 2022-02-17    VXX  21.709999  23.090000  21.620001  22.959999   \n",
      "\n",
      "           Volume  Jours  \n",
      "0        13767900      2  \n",
      "1        16739300      3  \n",
      "2        21372100      4  \n",
      "3        17897100      0  \n",
      "4        17863300      1  \n",
      "...           ...    ...  \n",
      "542265  116830300      4  \n",
      "542266  102120800      0  \n",
      "542267   55678200      1  \n",
      "542268   57347600      2  \n",
      "542269   66985600      3  \n",
      "\n",
      "[542270 rows x 8 columns]\n"
     ]
    }
   ],
   "source": [
    "print(df_ohlc_2)"
   ]
  },
  {
   "cell_type": "code",
   "execution_count": 71,
   "id": "543978ac",
   "metadata": {},
   "outputs": [],
   "source": [
    "df_ohlc_lundis = df_ohlc_2[df_ohlc_2[\"Jours\"]==0]"
   ]
  },
  {
   "cell_type": "code",
   "execution_count": 72,
   "id": "7a8dda43",
   "metadata": {},
   "outputs": [
    {
     "name": "stdout",
     "output_type": "stream",
     "text": [
      "             Date Symbol       Open       High        Low      Close  \\\n",
      "3      2013-01-07   ABBV  23.322972  24.210815  23.322972  23.534687   \n",
      "8      2013-01-14   ABBV  23.503874  23.669736  23.358746  23.559162   \n",
      "17     2013-01-28   ABBV  26.019435  26.171473  25.369811  25.494207   \n",
      "22     2013-02-04   ABBV  25.321430  25.777547  25.259232  25.763725   \n",
      "27     2013-02-11   ABBV  24.968977  25.003531  24.706363  24.775471   \n",
      "...           ...    ...        ...        ...        ...        ...   \n",
      "542242 2022-01-10    VXX  19.540001  20.605000  18.410000  18.469999   \n",
      "542251 2022-01-24    VXX  25.010000  27.840000  23.271000  23.719999   \n",
      "542256 2022-01-31    VXX  23.209999  23.400000  21.410000  21.410000   \n",
      "542261 2022-02-07    VXX  20.500000  20.740000  19.969999  20.420000   \n",
      "542266 2022-02-14    VXX  23.309999  24.799999  23.010000  23.309999   \n",
      "\n",
      "           Volume  Jours  \n",
      "3        17897100      0  \n",
      "8        11584900      0  \n",
      "17        7140100      0  \n",
      "22        6348000      0  \n",
      "27        6032100      0  \n",
      "...           ...    ...  \n",
      "542242   92378700      0  \n",
      "542251  186572800      0  \n",
      "542256   62965600      0  \n",
      "542261   44798100      0  \n",
      "542266  102120800      0  \n",
      "\n",
      "[102285 rows x 8 columns]\n"
     ]
    }
   ],
   "source": [
    "print(df_ohlc_lundis)"
   ]
  },
  {
   "cell_type": "code",
   "execution_count": 73,
   "id": "d846d3da",
   "metadata": {},
   "outputs": [
    {
     "name": "stdout",
     "output_type": "stream",
     "text": [
      "             Date Symbol       Open       High        Low      Close  \\\n",
      "0      2013-01-02   ABBV  23.848844  24.176665  23.288819  23.985435   \n",
      "1      2013-01-03   ABBV  23.903484  23.903484  23.329800  23.787382   \n",
      "2      2013-01-04   ABBV  23.643949  23.828348  23.391256  23.486870   \n",
      "3      2013-01-07   ABBV  23.322972  24.210815  23.322972  23.534687   \n",
      "4      2013-01-08   ABBV  23.418585  23.657618  22.783435  23.022469   \n",
      "...           ...    ...        ...        ...        ...        ...   \n",
      "542265 2022-02-11    VXX  20.469999  23.870001  20.295000  23.240000   \n",
      "542266 2022-02-14    VXX  23.309999  24.799999  23.010000  23.309999   \n",
      "542267 2022-02-15    VXX  21.680000  22.219999  21.330000  21.389999   \n",
      "542268 2022-02-16    VXX  21.700001  22.139999  20.459999  20.530001   \n",
      "542269 2022-02-17    VXX  21.709999  23.090000  21.620001  22.959999   \n",
      "\n",
      "           Volume  Jours  \n",
      "0        13767900      2  \n",
      "1        16739300      3  \n",
      "2        21372100      4  \n",
      "3        17897100      0  \n",
      "4        17863300      1  \n",
      "...           ...    ...  \n",
      "542265  116830300      4  \n",
      "542266  102120800      0  \n",
      "542267   55678200      1  \n",
      "542268   57347600      2  \n",
      "542269   66985600      3  \n",
      "\n",
      "[542270 rows x 8 columns]\n"
     ]
    }
   ],
   "source": [
    "print(df_ohlc_2)"
   ]
  },
  {
   "cell_type": "code",
   "execution_count": 74,
   "id": "b1a321fa",
   "metadata": {},
   "outputs": [],
   "source": [
    "df_ohlc_lundis = df_ohlc_lundis.drop(columns=['Jours'])"
   ]
  },
  {
   "cell_type": "code",
   "execution_count": 75,
   "id": "a7095df0",
   "metadata": {},
   "outputs": [
    {
     "name": "stdout",
     "output_type": "stream",
     "text": [
      "             Date Symbol       Open       High        Low      Close  \\\n",
      "3      2013-01-07   ABBV  23.322972  24.210815  23.322972  23.534687   \n",
      "8      2013-01-14   ABBV  23.503874  23.669736  23.358746  23.559162   \n",
      "17     2013-01-28   ABBV  26.019435  26.171473  25.369811  25.494207   \n",
      "22     2013-02-04   ABBV  25.321430  25.777547  25.259232  25.763725   \n",
      "27     2013-02-11   ABBV  24.968977  25.003531  24.706363  24.775471   \n",
      "...           ...    ...        ...        ...        ...        ...   \n",
      "542242 2022-01-10    VXX  19.540001  20.605000  18.410000  18.469999   \n",
      "542251 2022-01-24    VXX  25.010000  27.840000  23.271000  23.719999   \n",
      "542256 2022-01-31    VXX  23.209999  23.400000  21.410000  21.410000   \n",
      "542261 2022-02-07    VXX  20.500000  20.740000  19.969999  20.420000   \n",
      "542266 2022-02-14    VXX  23.309999  24.799999  23.010000  23.309999   \n",
      "\n",
      "           Volume  \n",
      "3        17897100  \n",
      "8        11584900  \n",
      "17        7140100  \n",
      "22        6348000  \n",
      "27        6032100  \n",
      "...           ...  \n",
      "542242   92378700  \n",
      "542251  186572800  \n",
      "542256   62965600  \n",
      "542261   44798100  \n",
      "542266  102120800  \n",
      "\n",
      "[102285 rows x 7 columns]\n"
     ]
    }
   ],
   "source": [
    "print(df_ohlc_lundis)"
   ]
  },
  {
   "cell_type": "code",
   "execution_count": 76,
   "id": "3d2a69eb",
   "metadata": {},
   "outputs": [],
   "source": [
    "df_ohlc_lundis.to_csv(\"ohlcv_lundis_m6.csv\")"
   ]
  },
  {
   "cell_type": "code",
   "execution_count": null,
   "id": "99f3b091",
   "metadata": {},
   "outputs": [],
   "source": []
  }
 ],
 "metadata": {
  "kernelspec": {
   "display_name": "Python 3 (ipykernel)",
   "language": "python",
   "name": "python3"
  },
  "language_info": {
   "codemirror_mode": {
    "name": "ipython",
    "version": 3
   },
   "file_extension": ".py",
   "mimetype": "text/x-python",
   "name": "python",
   "nbconvert_exporter": "python",
   "pygments_lexer": "ipython3",
   "version": "3.8.10"
  }
 },
 "nbformat": 4,
 "nbformat_minor": 5
}
