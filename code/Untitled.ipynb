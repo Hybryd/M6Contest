{
 "cells": [
  {
   "cell_type": "code",
   "execution_count": 1,
   "id": "52c8c59d",
   "metadata": {},
   "outputs": [],
   "source": [
    "import pandas as pd"
   ]
  },
  {
   "cell_type": "code",
   "execution_count": 2,
   "id": "a7c34829",
   "metadata": {},
   "outputs": [],
   "source": [
    "assets = pd.read_csv(\"./docs/M6_Universe.csv\")"
   ]
  },
  {
   "cell_type": "code",
   "execution_count": 5,
   "id": "b0876bb1",
   "metadata": {},
   "outputs": [],
   "source": [
    "symbols_list = assets[\"symbol\"]"
   ]
  },
  {
   "cell_type": "code",
   "execution_count": 6,
   "id": "8701a256",
   "metadata": {},
   "outputs": [
    {
     "name": "stdout",
     "output_type": "stream",
     "text": [
      "0     ABBV\n",
      "1      ACN\n",
      "2      AEP\n",
      "3      AIZ\n",
      "4     ALLE\n",
      "      ... \n",
      "95     XLC\n",
      "96     XLU\n",
      "97     XLP\n",
      "98     XLB\n",
      "99     VXX\n",
      "Name: symbol, Length: 100, dtype: object\n"
     ]
    }
   ],
   "source": [
    "print(symbols_list)"
   ]
  },
  {
   "cell_type": "code",
   "execution_count": 7,
   "id": "c179d90e",
   "metadata": {},
   "outputs": [],
   "source": [
    "df = pd.read_csv(\"./docs/sp500_stocks.csv\")"
   ]
  },
  {
   "cell_type": "code",
   "execution_count": 13,
   "id": "63deb660",
   "metadata": {},
   "outputs": [],
   "source": [
    "df_m6 = df[df[\"Symbol\"].isin(symbols_list)]"
   ]
  },
  {
   "cell_type": "code",
   "execution_count": 42,
   "id": "53995997",
   "metadata": {},
   "outputs": [],
   "source": [
    "symbols_list_total = sorted(df[\"Symbol\"].value_counts().index)"
   ]
  },
  {
   "cell_type": "code",
   "execution_count": 44,
   "id": "de5f4564",
   "metadata": {},
   "outputs": [
    {
     "name": "stdout",
     "output_type": "stream",
     "text": [
      "IVV\n",
      "IWM\n",
      "EWU\n",
      "EWG\n",
      "EWL\n",
      "EWQ\n",
      "IEUS\n",
      "EWJ\n",
      "EWT\n",
      "MCHI\n",
      "INDA\n",
      "EWY\n",
      "EWA\n",
      "EWH\n",
      "EWZ\n",
      "EWC\n",
      "IEMG\n",
      "LQD\n",
      "HYG\n",
      "SHY\n",
      "IEF\n",
      "TLT\n",
      "SEGA.L\n",
      "IEAA.L\n",
      "HIGH.L\n",
      "JPEA.L\n",
      "IAU\n",
      "SLV\n",
      "GSG\n",
      "REET\n",
      "ICLN\n",
      "IXN\n",
      "IGF\n",
      "IUVL.L\n",
      "IUMO.L\n",
      "SPMV.L\n",
      "IEVL.L\n",
      "IEFM.L\n",
      "MVEU.L\n",
      "XLK\n",
      "XLF\n",
      "XLV\n",
      "XLE\n",
      "XLY\n",
      "XLI\n",
      "XLC\n",
      "XLU\n",
      "XLP\n",
      "XLB\n",
      "VXX\n"
     ]
    }
   ],
   "source": [
    "for i in symbols_list:\n",
    "    if i not in symbols_list_total:\n",
    "        print(i)"
   ]
  },
  {
   "cell_type": "code",
   "execution_count": 30,
   "id": "b744bec5",
   "metadata": {},
   "outputs": [
    {
     "data": {
      "text/plain": [
       "MMM     3060\n",
       "NFLX    3060\n",
       "NLOK    3060\n",
       "NOC     3060\n",
       "NTRS    3060\n",
       "        ... \n",
       "EMN     3060\n",
       "DXC     3060\n",
       "DD      3060\n",
       "DRE     3060\n",
       "ZTS     3060\n",
       "Name: Symbol, Length: 506, dtype: int64"
      ]
     },
     "execution_count": 30,
     "metadata": {},
     "output_type": "execute_result"
    }
   ],
   "source": [
    "df[\"Symbol\"].value_counts()"
   ]
  },
  {
   "cell_type": "code",
   "execution_count": 29,
   "id": "d86a94b5",
   "metadata": {},
   "outputs": [
    {
     "data": {
      "text/plain": [
       "50"
      ]
     },
     "execution_count": 29,
     "metadata": {},
     "output_type": "execute_result"
    }
   ],
   "source": [
    "len(df_m6[\"Symbol\"].value_counts())"
   ]
  },
  {
   "cell_type": "code",
   "execution_count": 45,
   "id": "2fef2600",
   "metadata": {},
   "outputs": [
    {
     "name": "stdout",
     "output_type": "stream",
     "text": [
      "Empty DataFrame\n",
      "Columns: [Date, Symbol, Adj Close, Close, High, Low, Open, Volume]\n",
      "Index: []\n"
     ]
    }
   ],
   "source": [
    "print(df[df[\"Symbol\"]==\"IVV\"])"
   ]
  },
  {
   "cell_type": "code",
   "execution_count": null,
   "id": "e1172a27",
   "metadata": {},
   "outputs": [],
   "source": []
  }
 ],
 "metadata": {
  "kernelspec": {
   "display_name": "Python 3 (ipykernel)",
   "language": "python",
   "name": "python3"
  },
  "language_info": {
   "codemirror_mode": {
    "name": "ipython",
    "version": 3
   },
   "file_extension": ".py",
   "mimetype": "text/x-python",
   "name": "python",
   "nbconvert_exporter": "python",
   "pygments_lexer": "ipython3",
   "version": "3.8.10"
  }
 },
 "nbformat": 4,
 "nbformat_minor": 5
}
